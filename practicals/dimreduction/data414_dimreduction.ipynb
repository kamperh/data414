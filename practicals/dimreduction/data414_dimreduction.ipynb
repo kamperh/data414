{
 "cells": [
  {
   "cell_type": "markdown",
   "metadata": {},
   "source": [
    "# Practical: Dimensionality Reduction"
   ]
  },
  {
   "cell_type": "markdown",
   "metadata": {},
   "source": [
    "Herman Kamper, 2020-2021. Licensed under [CC BY-SA 4.0](http://creativecommons.org/licenses/by-sa/4.0/)."
   ]
  },
  {
   "cell_type": "markdown",
   "metadata": {},
   "source": [
    "## Preliminaries"
   ]
  },
  {
   "cell_type": "code",
   "execution_count": 6,
   "metadata": {},
   "outputs": [],
   "source": [
    "%matplotlib inline\n",
    "from scipy.spatial import distance\n",
    "from sklearn import datasets, decomposition, manifold\n",
    "import matplotlib.pyplot as plt\n",
    "import numpy as np"
   ]
  },
  {
   "cell_type": "markdown",
   "metadata": {},
   "source": [
    "## Data"
   ]
  },
  {
   "cell_type": "markdown",
   "metadata": {},
   "source": [
    "The [MNIST dataset](https://en.wikipedia.org/wiki/MNIST_database) is arguably one of the most famous datasets in machine learning. It consists of $70\\,000$ handwritten digits, each a $28 \\times 28$ grayscale images. It has often been used in the past for benchmarking image classification algorithms, and is still used in studies of new algorithms.\n",
    "\n",
    "Here we will reduce the dimensionality of the images using principle component analysis (PCA). We will also try to visualise the images in a 2-dimensional space.\n",
    "\n",
    "The code below uses scikit-learn to load the MNIST data (this step might take a bit of time). We will only use the first 1000 images."
   ]
  },
  {
   "cell_type": "code",
   "execution_count": 7,
   "metadata": {},
   "outputs": [],
   "source": [
    "# Load data\n",
    "X, y = datasets.fetch_openml(\"mnist_784\", version=1, return_X_y=True)\n",
    "X = X[:1000, :]\n",
    "y = y[:1000]"
   ]
  },
  {
   "cell_type": "code",
   "execution_count": 9,
   "metadata": {},
   "outputs": [
    {
     "data": {
      "text/plain": [
       "(-0.5, 27.5, 27.5, -0.5)"
      ]
     },
     "execution_count": 9,
     "metadata": {},
     "output_type": "execute_result"
    },
    {
     "data": {
      "image/png": "[encoded data removed]",
      "text/plain": [
       "<Figure size 432x288 with 1 Axes>"
      ]
     },
     "metadata": {
      "needs_background": "light"
     },
     "output_type": "display_data"
    }
   ],
   "source": [
    "# Plot example\n",
    "plt.imshow(X[0, :].reshape(28, 28), cmap=\"gray\")\n",
    "plt.axis(\"off\")"
   ]
  },
  {
   "cell_type": "markdown",
   "metadata": {},
   "source": [
    "## 1. Dimensionality reduction using PCA"
   ]
  },
  {
   "cell_type": "markdown",
   "metadata": {},
   "source": [
    "The goal in this section is to reduce each $28 \\times 28 = 784$ dimensional image vectors to a vector of $M$ dimensions, where $M < 784$.\n",
    "\n",
    "**Question:** Complete the code below to perform PCA."
   ]
  },
  {
   "cell_type": "code",
   "execution_count": 10,
   "metadata": {},
   "outputs": [],
   "source": [
    "# Answer: Complete the code\n",
    "\n",
    "M = 100  # target number of dimensions\n",
    "\n",
    "# Normalise the data to be zero-mean\n",
    "# Answer: Add your own code here\n",
    "\n",
    "# Calculate the sample covariance matrix\n",
    "# Answer: Add your own code here\n",
    "\n",
    "# Calculate the eigenvalues and -vectors\n",
    "# Answer: Add your own code here\n",
    "# Hint: np.linalg.eig\n",
    "\n",
    "# Find the M eigen vectors corresponding to the largest eigen values\n",
    "# Answer: Add your own code here\n",
    "\n",
    "# Project the data to the lower-dimensional space\n",
    "X_projected = # Answer: Add your own code here"
   ]
  },
  {
   "cell_type": "code",
   "execution_count": 11,
   "metadata": {},
   "outputs": [],
   "source": [
    "\n",
    "# Answer: Add code and new cells here\n"
   ]
  },
  {
   "cell_type": "markdown",
   "metadata": {},
   "source": [
    "To visualise the effect of the dimensionality reduction, we can project the reduced data back to the original feature space, and then plot the image. You can do this by (un)commenting the appropriate lines below."
   ]
  },
  {
   "cell_type": "code",
   "execution_count": 12,
   "metadata": {},
   "outputs": [
    {
     "data": {
      "image/png": "[encoded data removed]",
      "text/plain": [
       "<Figure size 432x288 with 2 Axes>"
      ]
     },
     "metadata": {
      "needs_background": "light"
     },
     "output_type": "display_data"
    }
   ],
   "source": [
    "# Reconstruction\n",
    "X_reconstructed = X                                            # comment out this line\n",
    "# X_reconstructed = np.dot(X_projected, W.T) + X.mean(axis=0)  # uncomment\n",
    "\n",
    "# Plot the original and the reconstructed image\n",
    "i_data = 0\n",
    "plt.subplot(1, 2, 1)\n",
    "plt.imshow(X[i_data, :].reshape(28, 28), cmap=\"gray\")\n",
    "plt.title(\"Original image\")\n",
    "plt.axis(\"off\")\n",
    "plt.subplot(1, 2, 2)\n",
    "plt.title(\"Reconstructed image\")\n",
    "plt.imshow(X_reconstructed[i_data, :].reshape(28, 28), cmap=\"gray\")\n",
    "plt.axis(\"off\")\n",
    "plt.savefig(\"fig/question1.1.pdf\")"
   ]
  },
  {
   "cell_type": "markdown",
   "metadata": {},
   "source": [
    "**Questions:**\n",
    "- Repeat the above with different values of $M$ apart from $M = 100$. What is the effect on the reconstructions?\n",
    "- In the step where we calculate the eigenvalues and -vectors, one option would be to use `np.linalg.eig`. An alternative would be to use the SVD by calling `np.linalg.svd`. If you followed the first option, try to get the same result with the other (or vice-versa).\n",
    "- Use the Jupyter notebook `%timeit` magic command to compare the above two ways of finding the projection vectors. Which one is faster?"
   ]
  },
  {
   "cell_type": "markdown",
   "metadata": {},
   "source": [
    "**Question:** Plot all the eigenvalues, calculated in the first cell in Section 3.1, from large to small. What does this plot tell you? Can it help you pick an appropriate $M$?"
   ]
  },
  {
   "cell_type": "code",
   "execution_count": 13,
   "metadata": {},
   "outputs": [],
   "source": [
    "\n",
    "# Answer: Add code and new cells here\n"
   ]
  },
  {
   "cell_type": "markdown",
   "metadata": {},
   "source": [
    "Scikit-learn also has a `PCA` class in `sklearn.decomposition`, which you can use from this point onwards. Here is an example of how it can be used:"
   ]
  },
  {
   "cell_type": "code",
   "execution_count": 14,
   "metadata": {},
   "outputs": [],
   "source": [
    "# PCA in scikit-learn\n",
    "M = 10\n",
    "model = decomposition.PCA(n_components=M)\n",
    "model.fit(X)\n",
    "X_projected = model.transform(X)"
   ]
  },
  {
   "cell_type": "markdown",
   "metadata": {},
   "source": [
    "## 2. Visualising data with PCA and t-SNE"
   ]
  },
  {
   "cell_type": "markdown",
   "metadata": {},
   "source": [
    "Each MNIST image consists of a 784-dimensional vector. It is not possible for us to visuallise data in such high dimensions. This is often the case in many machine learning and data analysis problems. To explore data, it is useful to map it to a 2- or 3-dimensional space which we can visualise. Here we will use PCA and t-SNE to do so. Different visualisation methods rely on different assumptions, and it is useful to therefore apply more than one approach when visualising a particular dataset."
   ]
  },
  {
   "cell_type": "markdown",
   "metadata": {},
   "source": [
    "**Question:** Using scikit-learn, use PCA to visualise the 1000 digit images in 2-dimensions. Concretely, create a 2-dimensional scatter plot where each item is coloured according to its class."
   ]
  },
  {
   "cell_type": "code",
   "execution_count": 15,
   "metadata": {},
   "outputs": [],
   "source": [
    "\n",
    "# Answer: Add code and new cells here\n"
   ]
  },
  {
   "cell_type": "markdown",
   "metadata": {},
   "source": [
    "**Question:** Repeat the above question, but now use t-SNE. You can use the `TSNE` class in `sklearn.manifold`."
   ]
  },
  {
   "cell_type": "code",
   "execution_count": 16,
   "metadata": {},
   "outputs": [],
   "source": [
    "\n",
    "# Answer: Add code and new cells here\n"
   ]
  },
  {
   "cell_type": "markdown",
   "metadata": {},
   "source": [
    "## Acknowledgements"
   ]
  },
  {
   "cell_type": "markdown",
   "metadata": {},
   "source": [
    "- Section 2 is taken partly from the [SciPy Lecture Notes](https://scipy-lectures.org/packages/scikit-learn/auto_examples/plot_digits_simple_classif.html)."
   ]
  },
  {
   "cell_type": "markdown",
   "metadata": {},
   "source": [
    "## Hand in your completed notebook on SUNLearn\n",
    "\n",
    "You need to hand in your completed Jupyter notebook as a PDF on SUNLearn. To export the notebook to a PDF, you can:\n",
    "\n",
    "- Print the notebook from your browser and then choose `Save as PDF`.\n",
    "- If you are doing the practical on a machine with LaTeX, you can also select `File`$\\rightarrow$ `Download as` $\\rightarrow$ `PDF via LaTeX (.pdf)` directly in the notebook.\n",
    "\n",
    "Upload the PDF on SUNLearn by following the submission steps there. You may submit your work multiple times; only the last submission will be marked. **No late submissions will be accepted.**"
   ]
  },
  {
   "cell_type": "code",
   "execution_count": null,
   "metadata": {},
   "outputs": [],
   "source": []
  }
 ],
 "metadata": {
  "kernelspec": {
   "display_name": "Python 3",
   "language": "python",
   "name": "python3"
  },
  "language_info": {
   "codemirror_mode": {
    "name": "ipython",
    "version": 3
   },
   "file_extension": ".py",
   "mimetype": "text/x-python",
   "name": "python",
   "nbconvert_exporter": "python",
   "pygments_lexer": "ipython3",
   "version": "3.8.3"
  }
 },
 "nbformat": 4,
 "nbformat_minor": 2
}
